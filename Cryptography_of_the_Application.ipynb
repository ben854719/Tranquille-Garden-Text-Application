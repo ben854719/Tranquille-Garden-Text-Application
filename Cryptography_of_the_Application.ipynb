{
  "nbformat": 4,
  "nbformat_minor": 0,
  "metadata": {
    "colab": {
      "provenance": [],
      "cell_execution_strategy": "setup",
      "authorship_tag": "ABX9TyMmDf2gM7hs9qDAEdfbY9eh",
      "include_colab_link": true
    },
    "kernelspec": {
      "name": "python3",
      "display_name": "Python 3"
    },
    "language_info": {
      "name": "python"
    }
  },
  "cells": [
    {
      "cell_type": "markdown",
      "metadata": {
        "id": "view-in-github",
        "colab_type": "text"
      },
      "source": [
        "<a href=\"https://colab.research.google.com/github/ben854719/Tranquille-Garden-Text-Application/blob/main/Cryptography_of_the_Application.ipynb\" target=\"_parent\"><img src=\"https://colab.research.google.com/assets/colab-badge.svg\" alt=\"Open In Colab\"/></a>"
      ]
    },
    {
      "cell_type": "code",
      "execution_count": 1,
      "metadata": {
        "colab": {
          "base_uri": "https://localhost:8080/"
        },
        "collapsed": true,
        "id": "i-7rNYAqn2hK",
        "outputId": "d5508266-130e-4487-da6b-312d1bb35cae"
      },
      "outputs": [
        {
          "output_type": "stream",
          "name": "stdout",
          "text": [
            "Requirement already satisfied: cryptography in /usr/local/lib/python3.12/dist-packages (43.0.3)\n",
            "Requirement already satisfied: cffi>=1.12 in /usr/local/lib/python3.12/dist-packages (from cryptography) (1.17.1)\n",
            "Requirement already satisfied: pycparser in /usr/local/lib/python3.12/dist-packages (from cffi>=1.12->cryptography) (2.22)\n"
          ]
        }
      ],
      "source": [
        "!pip install cryptography"
      ]
    },
    {
      "cell_type": "code",
      "source": [
        "from cryptography.hazmat.primitives.asymmetric import rsa\n",
        "from cryptography.hazmat.primitives import serialization\n",
        "\n",
        "# Generate private key.\n",
        "\n",
        "private_key = rsa.generate_private_key(\n",
        "    public_exponent=65537,\n",
        "    key_size=2048\n",
        ")\n",
        "\n",
        "# Derive the public key to the private key.\n",
        "\n",
        "public_key = private_key.public_key()\n",
        "\n",
        "# Serialize the public key format to PEM.\n",
        "\n",
        "pem_public = public_key.public_bytes(\n",
        "    encoding=serialization.Encoding.PEM,\n",
        "    format=serialization.PublicFormat.SubjectPublicKeyInfo\n",
        ")\n",
        "\n",
        "print(pem_public)"
      ],
      "metadata": {
        "colab": {
          "base_uri": "https://localhost:8080/"
        },
        "id": "WNXswmSNo1vB",
        "outputId": "d7db87ae-331c-46b3-8eb4-5f2d4f69f85a"
      },
      "execution_count": 4,
      "outputs": [
        {
          "output_type": "stream",
          "name": "stdout",
          "text": [
            "b'-----BEGIN PUBLIC KEY-----\\nMIIBIjANBgkqhkiG9w0BAQEFAAOCAQ8AMIIBCgKCAQEAvsDtiAObpJ0baG8kgmxq\\nueaCeYLPSuanMoumM3ybufW3heAWJvSbaj9tsg7fAU9OapxMKvAHrYFlESoz90qZ\\n8+PGYL3tI27d103tCVtDql3gE0h+GEundRl/29Ar8HZMkg7A5qHegUKkPlGJ72yL\\nW4CQbZ2e2ZKyb7eLvdExDdSHNSA6bm8VBN6FcWsROAqw+3BZ7hGR/brbcYHXrUEz\\nxMQ4xyTyDOhYBp5vutAgZaDgYReQIm37ZW6RwbznRcMe/uecM0K22XnqGNjKS0Ht\\nfgeuQZ1LG+yl8XZArQn9OvpaLGy9ngXhhU2x11Om41mEKoF73VEp2AFSRNdvAFjc\\nmQIDAQAB\\n-----END PUBLIC KEY-----\\n'\n"
          ]
        }
      ]
    }
  ]
}