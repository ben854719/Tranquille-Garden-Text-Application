{
  "nbformat": 4,
  "nbformat_minor": 0,
  "metadata": {
    "colab": {
      "provenance": [],
      "cell_execution_strategy": "setup",
      "authorship_tag": "ABX9TyM6zaEH2uOBAVapDn2XK43x",
      "include_colab_link": true
    },
    "kernelspec": {
      "name": "python3",
      "display_name": "Python 3"
    },
    "language_info": {
      "name": "python"
    }
  },
  "cells": [
    {
      "cell_type": "markdown",
      "metadata": {
        "id": "view-in-github",
        "colab_type": "text"
      },
      "source": [
        "<a href=\"https://colab.research.google.com/github/ben854719/Tranquille-Garden-Text-Application/blob/main/ADHD_Dyslexia_Application.ipynb\" target=\"_parent\"><img src=\"https://colab.research.google.com/assets/colab-badge.svg\" alt=\"Open In Colab\"/></a>"
      ]
    },
    {
      "cell_type": "code",
      "execution_count": 1,
      "metadata": {
        "colab": {
          "base_uri": "https://localhost:8080/"
        },
        "collapsed": true,
        "id": "gDD6unY-paON",
        "outputId": "d7c03a7d-8ce9-4c75-d993-784717eedd62"
      },
      "outputs": [
        {
          "output_type": "stream",
          "name": "stdout",
          "text": [
            "Reading package lists... Done\n",
            "Building dependency tree... Done\n",
            "Reading state information... Done\n",
            "xvfb is already the newest version (2:21.1.4-2ubuntu1.7~22.04.15).\n",
            "0 upgraded, 0 newly installed, 0 to remove and 35 not upgraded.\n",
            "Collecting pyvirtualdisplay\n",
            "  Downloading PyVirtualDisplay-3.0-py3-none-any.whl.metadata (943 bytes)\n",
            "Downloading PyVirtualDisplay-3.0-py3-none-any.whl (15 kB)\n",
            "Installing collected packages: pyvirtualdisplay\n",
            "Successfully installed pyvirtualdisplay-3.0\n"
          ]
        }
      ],
      "source": [
        "!apt-get install -y xvfb\n",
        "!pip install pyvirtualdisplay"
      ]
    },
    {
      "cell_type": "code",
      "source": [
        "from pyvirtualdisplay import Display\n",
        "\n",
        "display = Display(visible=0, size=(800, 600))\n",
        "display.start()"
      ],
      "metadata": {
        "colab": {
          "base_uri": "https://localhost:8080/"
        },
        "collapsed": true,
        "id": "PidafTRGqFl9",
        "outputId": "46ad4214-e846-42b6-c28e-a59b77391f8a"
      },
      "execution_count": 2,
      "outputs": [
        {
          "output_type": "execute_result",
          "data": {
            "text/plain": [
              "<pyvirtualdisplay.display.Display at 0x7a2908e16120>"
            ]
          },
          "metadata": {},
          "execution_count": 2
        }
      ]
    },
    {
      "cell_type": "code",
      "source": [
        "from IPython.display import display, HTML\n",
        "\n",
        "# Create reading interface.\n",
        "\n",
        "def reading_interface(font=\"Lexend\", size=18, spacing=1.6, theme=\"blue_theme\", text=None):\n",
        "    # Load fonts\n",
        "    font_links = {\n",
        "        \"OpenDyslexic\": \"<link href='https://fonts.cdnfonts.com/css/open-dyslexic' rel='stylesheet'>\",\n",
        "        \"Lexend\": \"<link href='https://fonts.googleapis.com/css2?family=Lexend&display=swap' rel='stylesheet'>\"\n",
        "    }\n",
        "\n",
        " # Theme colors\n",
        "    themes = {\n",
        "        \"default\": {\"bg\": \"black\", \"fg\": \"white\"},\n",
        "        \"low_contrast\": {\"bg\": \"#4B3621\", \"fg\": \"#F5DEB3\"},\n",
        "        \"blue_theme\": {\"bg\": \"#001F3F\", \"fg\": \"white\"}\n",
        "    }\n",
        "    colors = themes.get(theme, themes[\"default\"])\n",
        "    font_link = font_links.get(font, \"\")\n",
        "    font_family = font if font in font_links else \"Arial\"\n",
        "\n",
        "    # Sample text if none provided\n",
        "    if not text:\n",
        "        text = (\n",
        "            \"Reading is a gateway to understanding the world. \"\n",
        "            \"With the right font, size, and spacing, it becomes not just easier—but more enjoyable. \"\n",
        "            \"This interface lets you explore how visual preferences can transform your reading experience. \"\n",
        "            \"Try adjusting the settings to see what feels best for your eyes and your mind.\"\n",
        "        )\n",
        "\n",
        "    # HTML layout\n",
        "    html = f\"\"\"\n",
        "    {font_link}\n",
        "    <div style=\"\n",
        "        background-color: {colors['bg']};\n",
        "        color: {colors['fg']};\n",
        "        font-family: '{font_family}', sans-serif;\n",
        "        font-size: {size}px;\n",
        "        line-height: {spacing};\n",
        "        padding: 30px;\n",
        "        border-radius: 12px;\n",
        "        max-width: 800px;\n",
        "        margin: auto;\n",
        "        overflow-y: auto;\n",
        "        height: 300px;\n",
        "        box-shadow: 0 0 10px rgba(0,0,0,0.3);\n",
        "    \">\n",
        "        <h2 style=\"margin-top: 0;\">📖 Reading Interface</h2>\n",
        "        <p>{text}</p>\n",
        "    </div>\n",
        "    \"\"\"\n",
        "    display(HTML(html))"
      ],
      "metadata": {
        "id": "9ROaDHnErSQs"
      },
      "execution_count": 4,
      "outputs": []
    },
    {
      "cell_type": "code",
      "source": [
        "reading_interface(\n",
        "    font=\"OpenDyslexic\",\n",
        "    size=20,\n",
        "    spacing=2.0,\n",
        "    theme=\"low_contrast\"\n",
        ")"
      ],
      "metadata": {
        "colab": {
          "base_uri": "https://localhost:8080/",
          "height": 377
        },
        "id": "I9hRzPqbxCRF",
        "outputId": "151816e1-bec8-4c21-8c12-02c1d4af0eed"
      },
      "execution_count": 6,
      "outputs": [
        {
          "output_type": "display_data",
          "data": {
            "text/plain": [
              "<IPython.core.display.HTML object>"
            ],
            "text/html": [
              "\n",
              "    <link href='https://fonts.cdnfonts.com/css/open-dyslexic' rel='stylesheet'>\n",
              "    <div style=\"\n",
              "        background-color: #4B3621;\n",
              "        color: #F5DEB3;\n",
              "        font-family: 'OpenDyslexic', sans-serif;\n",
              "        font-size: 20px;\n",
              "        line-height: 2.0;\n",
              "        padding: 30px;\n",
              "        border-radius: 12px;\n",
              "        max-width: 800px;\n",
              "        margin: auto;\n",
              "        overflow-y: auto;\n",
              "        height: 300px;\n",
              "        box-shadow: 0 0 10px rgba(0,0,0,0.3);\n",
              "    \">\n",
              "        <h2 style=\"margin-top: 0;\">📖 Reading Interface</h2>\n",
              "        <p>Reading is a gateway to understanding the world. With the right font, size, and spacing, it becomes not just easier—but more enjoyable. This interface lets you explore how visual preferences can transform your reading experience. Try adjusting the settings to see what feels best for your eyes and your mind.</p>\n",
              "    </div>\n",
              "    "
            ]
          },
          "metadata": {}
        }
      ]
    },
    {
      "cell_type": "code",
      "source": [
        "custom_text = \"\"\"\n",
        "Once upon a time, in a quiet town nestled between the hills, a curious child discovered the joy of reading.\n",
        "Books became windows to other worlds, and every page turned was a step into adventure.\n",
        "\"\"\"\n",
        "reading_interface(font=\"Lexend\", size=18, spacing=1.5, theme=\"blue_theme\", text=custom_text)"
      ],
      "metadata": {
        "colab": {
          "base_uri": "https://localhost:8080/",
          "height": 377
        },
        "id": "42DwjIVpyBXW",
        "outputId": "631e7843-a1c3-43ba-d821-69b7c1433438"
      },
      "execution_count": 7,
      "outputs": [
        {
          "output_type": "display_data",
          "data": {
            "text/plain": [
              "<IPython.core.display.HTML object>"
            ],
            "text/html": [
              "\n",
              "    <link href='https://fonts.googleapis.com/css2?family=Lexend&display=swap' rel='stylesheet'>\n",
              "    <div style=\"\n",
              "        background-color: #001F3F;\n",
              "        color: white;\n",
              "        font-family: 'Lexend', sans-serif;\n",
              "        font-size: 18px;\n",
              "        line-height: 1.5;\n",
              "        padding: 30px;\n",
              "        border-radius: 12px;\n",
              "        max-width: 800px;\n",
              "        margin: auto;\n",
              "        overflow-y: auto;\n",
              "        height: 300px;\n",
              "        box-shadow: 0 0 10px rgba(0,0,0,0.3);\n",
              "    \">\n",
              "        <h2 style=\"margin-top: 0;\">📖 Reading Interface</h2>\n",
              "        <p>\n",
              "Once upon a time, in a quiet town nestled between the hills, a curious child discovered the joy of reading.\n",
              "Books became windows to other worlds, and every page turned was a step into adventure.\n",
              "</p>\n",
              "    </div>\n",
              "    "
            ]
          },
          "metadata": {}
        }
      ]
    }
  ]
}