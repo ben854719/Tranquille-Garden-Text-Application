{
  "nbformat": 4,
  "nbformat_minor": 0,
  "metadata": {
    "colab": {
      "provenance": [],
      "gpuType": "T4",
      "cell_execution_strategy": "setup",
      "authorship_tag": "ABX9TyNI37c7hYXYkVAzDOpZTuS3",
      "include_colab_link": true
    },
    "kernelspec": {
      "name": "python3",
      "display_name": "Python 3"
    },
    "language_info": {
      "name": "python"
    },
    "accelerator": "GPU"
  },
  "cells": [
    {
      "cell_type": "markdown",
      "metadata": {
        "id": "view-in-github",
        "colab_type": "text"
      },
      "source": [
        "<a href=\"https://colab.research.google.com/github/ben854719/Tranquille-Garden-Text-Application/blob/main/Reading_for_ADHD_Dyslexia.ipynb\" target=\"_parent\"><img src=\"https://colab.research.google.com/assets/colab-badge.svg\" alt=\"Open In Colab\"/></a>"
      ]
    },
    {
      "cell_type": "code",
      "source": [
        "from IPython.display import display\n",
        "\n",
        "# Sample long text\n",
        "LONG_TEXT = \"This is a long paragraph meant to demonstrate chunked rendering. \" * 50\n",
        "\n",
        "# Chunking logic\n",
        "def chunk_text(text, chunk_size=100):\n",
        "    words = text.split()\n",
        "    return [' '.join(words[i:i+chunk_size]) for i in range(0, len(words), chunk_size)]\n",
        "\n",
        "chunks = chunk_text(LONG_TEXT)\n",
        "\n",
        "# Prepare JavaScript-safe chunks\n",
        "js_chunks = [chunk.replace('\"', '\\\\\"').replace('\\n', '') for chunk in chunks]\n",
        "\n",
        "# HTML + JS interface\n",
        "html_code = f\"\"\"\n",
        "<div>\n",
        "  <label for=\"font\">Font:</label>\n",
        "  <select id=\"font\" onchange=\"updateChunk()\">\n",
        "    <option value=\"Arial\">Arial</option>\n",
        "    <option value=\"Comic Sans MS\">Comic Sans MS</option>\n",
        "    <option value=\"OpenDyslexic\">OpenDyslexic</option>\n",
        "  </select>\n",
        "\n",
        "  <label for=\"theme\">Theme:</label>\n",
        "  <select id=\"theme\" onchange=\"updateChunk()\">\n",
        "    <option value=\"light\">Light</option>\n",
        "    <option value=\"dark\">Dark</option>\n",
        "  </select>\n",
        "\n",
        "  <button onclick=\"nextChunk()\">Next Chunk</button>\n",
        "</div>\n",
        "\n",
        "<div id=\"chunkDisplay\" style=\"margin-top:20px; padding:20px; border-radius:10px;\">\n",
        "</div>\n",
        "\n",
        "<script>\n",
        "  let chunks = {js_chunks};\n",
        "  let index = 0;\n",
        "\n",
        "  function updateChunk() {{\n",
        "    let font = document.getElementById(\"font\").value;\n",
        "    let theme = document.getElementById(\"theme\").value;\n",
        "    let bg = theme === \"dark\" ? \"#121212\" : \"#ffffff\";\n",
        "    let fg = theme === \"dark\" ? \"#e0e0e0\" : \"#000000\";\n",
        "\n",
        "    let chunk = chunks[index];\n",
        "    document.getElementById(\"chunkDisplay\").style.backgroundColor = bg;\n",
        "    document.getElementById(\"chunkDisplay\").style.color = fg;\n",
        "    document.getElementById(\"chunkDisplay\").style.fontFamily = font;\n",
        "    document.getElementById(\"chunkDisplay\").innerHTML = \"<p>\" + chunk + \"</p>\";\n",
        "  }}\n",
        "\n",
        "  function nextChunk() {{\n",
        "    if (index < chunks.length - 1) {{\n",
        "      index++;\n",
        "      updateChunk();\n",
        "    }}\n",
        "  }}\n",
        "\n",
        "  updateChunk();\n",
        "</script>\n",
        "\"\"\"\n",
        "\n",
        "display(HTML(html_code))"
      ],
      "metadata": {
        "colab": {
          "base_uri": "https://localhost:8080/",
          "height": 180
        },
        "id": "7yG6h7HHncXR",
        "outputId": "6c2fad68-8963-4cd7-9b4f-71dda03ffa2f"
      },
      "execution_count": 3,
      "outputs": [
        {
          "output_type": "display_data",
          "data": {
            "text/plain": [
              "<IPython.core.display.HTML object>"
            ],
            "text/html": [
              "\n",
              "<div>\n",
              "  <label for=\"font\">Font:</label>\n",
              "  <select id=\"font\" onchange=\"updateChunk()\">\n",
              "    <option value=\"Arial\">Arial</option>\n",
              "    <option value=\"Comic Sans MS\">Comic Sans MS</option>\n",
              "    <option value=\"OpenDyslexic\">OpenDyslexic</option>\n",
              "  </select>\n",
              "\n",
              "  <label for=\"theme\">Theme:</label>\n",
              "  <select id=\"theme\" onchange=\"updateChunk()\">\n",
              "    <option value=\"light\">Light</option>\n",
              "    <option value=\"dark\">Dark</option>\n",
              "  </select>\n",
              "\n",
              "  <button onclick=\"nextChunk()\">Next Chunk</button>\n",
              "</div>\n",
              "\n",
              "<div id=\"chunkDisplay\" style=\"margin-top:20px; padding:20px; border-radius:10px;\">\n",
              "</div>\n",
              "\n",
              "<script>\n",
              "  let chunks = ['This is a long paragraph meant to demonstrate chunked rendering. This is a long paragraph meant to demonstrate chunked rendering. This is a long paragraph meant to demonstrate chunked rendering. This is a long paragraph meant to demonstrate chunked rendering. This is a long paragraph meant to demonstrate chunked rendering. This is a long paragraph meant to demonstrate chunked rendering. This is a long paragraph meant to demonstrate chunked rendering. This is a long paragraph meant to demonstrate chunked rendering. This is a long paragraph meant to demonstrate chunked rendering. This is a long paragraph meant to demonstrate chunked rendering.', 'This is a long paragraph meant to demonstrate chunked rendering. This is a long paragraph meant to demonstrate chunked rendering. This is a long paragraph meant to demonstrate chunked rendering. This is a long paragraph meant to demonstrate chunked rendering. This is a long paragraph meant to demonstrate chunked rendering. This is a long paragraph meant to demonstrate chunked rendering. This is a long paragraph meant to demonstrate chunked rendering. This is a long paragraph meant to demonstrate chunked rendering. This is a long paragraph meant to demonstrate chunked rendering. This is a long paragraph meant to demonstrate chunked rendering.', 'This is a long paragraph meant to demonstrate chunked rendering. This is a long paragraph meant to demonstrate chunked rendering. This is a long paragraph meant to demonstrate chunked rendering. This is a long paragraph meant to demonstrate chunked rendering. This is a long paragraph meant to demonstrate chunked rendering. This is a long paragraph meant to demonstrate chunked rendering. This is a long paragraph meant to demonstrate chunked rendering. This is a long paragraph meant to demonstrate chunked rendering. This is a long paragraph meant to demonstrate chunked rendering. This is a long paragraph meant to demonstrate chunked rendering.', 'This is a long paragraph meant to demonstrate chunked rendering. This is a long paragraph meant to demonstrate chunked rendering. This is a long paragraph meant to demonstrate chunked rendering. This is a long paragraph meant to demonstrate chunked rendering. This is a long paragraph meant to demonstrate chunked rendering. This is a long paragraph meant to demonstrate chunked rendering. This is a long paragraph meant to demonstrate chunked rendering. This is a long paragraph meant to demonstrate chunked rendering. This is a long paragraph meant to demonstrate chunked rendering. This is a long paragraph meant to demonstrate chunked rendering.', 'This is a long paragraph meant to demonstrate chunked rendering. This is a long paragraph meant to demonstrate chunked rendering. This is a long paragraph meant to demonstrate chunked rendering. This is a long paragraph meant to demonstrate chunked rendering. This is a long paragraph meant to demonstrate chunked rendering. This is a long paragraph meant to demonstrate chunked rendering. This is a long paragraph meant to demonstrate chunked rendering. This is a long paragraph meant to demonstrate chunked rendering. This is a long paragraph meant to demonstrate chunked rendering. This is a long paragraph meant to demonstrate chunked rendering.'];\n",
              "  let index = 0;\n",
              "\n",
              "  function updateChunk() {\n",
              "    let font = document.getElementById(\"font\").value;\n",
              "    let theme = document.getElementById(\"theme\").value;\n",
              "    let bg = theme === \"dark\" ? \"#121212\" : \"#ffffff\";\n",
              "    let fg = theme === \"dark\" ? \"#e0e0e0\" : \"#000000\";\n",
              "\n",
              "    let chunk = chunks[index];\n",
              "    document.getElementById(\"chunkDisplay\").style.backgroundColor = bg;\n",
              "    document.getElementById(\"chunkDisplay\").style.color = fg;\n",
              "    document.getElementById(\"chunkDisplay\").style.fontFamily = font;\n",
              "    document.getElementById(\"chunkDisplay\").innerHTML = \"<p>\" + chunk + \"</p>\";\n",
              "  }\n",
              "\n",
              "  function nextChunk() {\n",
              "    if (index < chunks.length - 1) {\n",
              "      index++;\n",
              "      updateChunk();\n",
              "    }\n",
              "  }\n",
              "\n",
              "  updateChunk();\n",
              "</script>\n"
            ]
          },
          "metadata": {}
        }
      ]
    }
  ]
}