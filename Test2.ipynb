{
  "nbformat": 4,
  "nbformat_minor": 0,
  "metadata": {
    "colab": {
      "provenance": [],
      "cell_execution_strategy": "setup",
      "authorship_tag": "ABX9TyOSbiPZt4SWAiU/rLT/9q99",
      "include_colab_link": true
    },
    "kernelspec": {
      "name": "python3",
      "display_name": "Python 3"
    },
    "language_info": {
      "name": "python"
    }
  },
  "cells": [
    {
      "cell_type": "markdown",
      "metadata": {
        "id": "view-in-github",
        "colab_type": "text"
      },
      "source": [
        "<a href=\"https://colab.research.google.com/github/ben854719/Tranquille-Garden-Text-Application/blob/main/Test2.ipynb\" target=\"_parent\"><img src=\"https://colab.research.google.com/assets/colab-badge.svg\" alt=\"Open In Colab\"/></a>"
      ]
    },
    {
      "cell_type": "code",
      "execution_count": 1,
      "metadata": {
        "colab": {
          "base_uri": "https://localhost:8080/"
        },
        "collapsed": true,
        "id": "DvuntxS25fVU",
        "outputId": "7e138f99-5de0-4162-f983-f6aa5e8c8f25"
      },
      "outputs": [
        {
          "output_type": "stream",
          "name": "stdout",
          "text": [
            "Reading package lists... Done\n",
            "Building dependency tree... Done\n",
            "Reading state information... Done\n",
            "xvfb is already the newest version (2:21.1.4-2ubuntu1.7~22.04.15).\n",
            "0 upgraded, 0 newly installed, 0 to remove and 35 not upgraded.\n",
            "Requirement already satisfied: pyvirtualdisplay in /usr/local/lib/python3.12/dist-packages (3.0)\n"
          ]
        }
      ],
      "source": [
        "!apt-get install -y xvfb\n",
        "!pip install pyvirtualdisplay"
      ]
    },
    {
      "cell_type": "code",
      "source": [
        "from pyvirtualdisplay import Display\n",
        "\n",
        "display = Display(visible=0, size=(800, 600))\n",
        "display.start()"
      ],
      "metadata": {
        "colab": {
          "base_uri": "https://localhost:8080/"
        },
        "id": "xAF4A23H5uiy",
        "outputId": "722aa92f-9561-4b0f-802e-1f27d3033675"
      },
      "execution_count": 2,
      "outputs": [
        {
          "output_type": "execute_result",
          "data": {
            "text/plain": [
              "<pyvirtualdisplay.display.Display at 0x7e23c6609ac0>"
            ]
          },
          "metadata": {},
          "execution_count": 2
        }
      ]
    },
    {
      "cell_type": "code",
      "source": [
        "from IPython.display import display, HTML\n",
        "\n",
        "def apply_preferences_html(font=\"Arial\", size=16, spacing=1.5, theme=\"default\"):\n",
        "    # Theme colors\n",
        "    themes = {\n",
        "        \"default\": {\"bg\": \"black\", \"fg\": \"white\"},\n",
        "        \"low_contrast\": {\"bg\": \"#4B3621\", \"fg\": \"#F5DEB3\"},\n",
        "        \"blue_theme\": {\"bg\": \"#001F3F\", \"fg\": \"white\"}\n",
        "    }\n",
        "\n",
        "    colors = themes.get(theme, themes[\"default\"])\n",
        "\n",
        "    # HTML preview\n",
        "    html = f\"\"\"\n",
        "    <div style=\"\n",
        "        background-color: {colors['bg']};\n",
        "        color: {colors['fg']};\n",
        "        font-family: '{font}', sans-serif;\n",
        "        font-size: {size}px;\n",
        "        line-height: {spacing};\n",
        "        padding: 20px;\n",
        "        border-radius: 10px;\n",
        "        max-width: 600px;\n",
        "    \">\n",
        "        <h3>📖 Reading Preferences Preview</h3>\n",
        "        <p>This is a preview of your reading preferences.<br>\n",
        "        Adjust the settings and re-run to apply changes.</p>\n",
        "        <p><strong>Font:</strong> {font}<br>\n",
        "           <strong>Size:</strong> {size}px<br>\n",
        "           <strong>Line Spacing:</strong> {spacing}<br>\n",
        "           <strong>Theme:</strong> {theme.replace('_', ' ').title()}</p>\n",
        "    </div>\n",
        "    \"\"\"\n",
        "    display(HTML(html))"
      ],
      "metadata": {
        "id": "YAJsMohn9f_4"
      },
      "execution_count": 11,
      "outputs": []
    },
    {
      "cell_type": "code",
      "source": [
        "apply_preferences_html(font=\"Lexend\", size=18, spacing=2.0, theme=\"blue_theme\")"
      ],
      "metadata": {
        "colab": {
          "base_uri": "https://localhost:8080/",
          "height": 354
        },
        "id": "deapCI8G9lyK",
        "outputId": "ea855efe-0982-4737-94b6-e52205c281fd"
      },
      "execution_count": 12,
      "outputs": [
        {
          "output_type": "display_data",
          "data": {
            "text/plain": [
              "<IPython.core.display.HTML object>"
            ],
            "text/html": [
              "\n",
              "    <div style=\"\n",
              "        background-color: #001F3F;\n",
              "        color: white;\n",
              "        font-family: 'Lexend', sans-serif;\n",
              "        font-size: 18px;\n",
              "        line-height: 2.0;\n",
              "        padding: 20px;\n",
              "        border-radius: 10px;\n",
              "        max-width: 600px;\n",
              "    \">\n",
              "        <h3>📖 Reading Preferences Preview</h3>\n",
              "        <p>This is a preview of your reading preferences.<br>\n",
              "        Adjust the settings and re-run to apply changes.</p>\n",
              "        <p><strong>Font:</strong> Lexend<br>\n",
              "           <strong>Size:</strong> 18px<br>\n",
              "           <strong>Line Spacing:</strong> 2.0<br>\n",
              "           <strong>Theme:</strong> Blue Theme</p>\n",
              "    </div>\n",
              "    "
            ]
          },
          "metadata": {}
        }
      ]
    }
  ]
}